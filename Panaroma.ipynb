{
 "cells": [
  {
   "cell_type": "code",
   "execution_count": 2,
   "metadata": {},
   "outputs": [
    {
     "ename": "",
     "evalue": "",
     "output_type": "error",
     "traceback": [
      "\u001b[1;31mThe Kernel crashed while executing code in the current cell or a previous cell. \n",
      "\u001b[1;31mPlease review the code in the cell(s) to identify a possible cause of the failure. \n",
      "\u001b[1;31mClick <a href='https://aka.ms/vscodeJupyterKernelCrash'>here</a> for more info. \n",
      "\u001b[1;31mView Jupyter <a href='command:jupyter.viewOutput'>log</a> for further details."
     ]
    }
   ],
   "source": [
    "import cv2\n",
    "import os\n",
    "\n",
    "# Path to the directory containing your images\n",
    "image_dir = '/media/stc1/Partition1/Image_processsing/panaroma/output_images'\n",
    "\n",
    "# Get a list of image files in the directory\n",
    "image_files = [f for f in os.listdir(image_dir) if f.endswith(('.jpg', '.png'))]\n",
    "\n",
    "# Sort the image files by their filenames (assuming the filenames are named in order)\n",
    "image_files.sort()\n",
    "\n",
    "# Create an empty list to store the images\n",
    "images = []\n",
    "\n",
    "# Open and append each image to the 'images' list\n",
    "for image_file in image_files:\n",
    "    image_path = os.path.join(image_dir, image_file)\n",
    "    img = cv2.imread(image_path)\n",
    "    images.append(img)\n",
    "\n",
    "# Create a stitcher object\n",
    "stitcher = cv2.Stitcher_create()\n",
    "\n",
    "# Stitch the images\n",
    "status, stitched_image = stitcher.stitch(images)\n",
    "\n",
    "if status == cv2.Stitcher_OK:\n",
    "    # Save the stitched image\n",
    "    cv2.imwrite('stitched_image_3.jpg', stitched_image)\n",
    "    print(\"Stitched image saved as 'stitched_image3.jpg'\")\n",
    "else:\n",
    "    print(\"Image stitching failed.\")"
   ]
  }
 ],
 "metadata": {
  "kernelspec": {
   "display_name": "Python 3",
   "language": "python",
   "name": "python3"
  },
  "language_info": {
   "codemirror_mode": {
    "name": "ipython",
    "version": 3
   },
   "file_extension": ".py",
   "mimetype": "text/x-python",
   "name": "python",
   "nbconvert_exporter": "python",
   "pygments_lexer": "ipython3",
   "version": "3.9.13"
  },
  "orig_nbformat": 4
 },
 "nbformat": 4,
 "nbformat_minor": 2
}
